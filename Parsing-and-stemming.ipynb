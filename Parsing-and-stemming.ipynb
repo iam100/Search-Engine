{
 "cells": [
  {
   "cell_type": "code",
   "execution_count": 1,
   "metadata": {},
   "outputs": [],
   "source": [
    "import xml.sax\n",
    "import re\n",
    "from nltk.stem import PorterStemmer\n",
    "from nltk.corpus import stopwords\n",
    "from nltk.tokenize import word_tokenize"
   ]
  },
  {
   "cell_type": "code",
   "execution_count": 2,
   "metadata": {},
   "outputs": [],
   "source": [
    "filename = '../enwiki-20200801-pages-articles-multistream1.xml-p1p30303'\n",
    "sergey = '../Sergey_brin.xml'"
   ]
  },
  {
   "cell_type": "code",
   "execution_count": null,
   "metadata": {},
   "outputs": [],
   "source": [
    "def cleanupText(arr):\n",
    "    for stats in arr:\n",
    "        stats = re.sub(r'http[^\\ ]*\\ ',r' ',stats)\n",
    "        stats = word_tokenize(stats)"
   ]
  },
  {
   "cell_type": "code",
   "execution_count": 3,
   "metadata": {},
   "outputs": [],
   "source": [
    "class RegexExp():\n",
    "    def __init__(self):\n",
    "        pass\n",
    "    def findUsefulText(self, info):\n",
    "        stats = info.split('\\n')\n",
    "        refs = []\n",
    "        extlinks = []\n",
    "        cat = []\n",
    "        for l in stats:\n",
    "            if re.search(r'ref',l):\n",
    "                x = re.sub(r'.*title[\\ ]*=[\\ ]*([^\\|]*).*',r'\\1',l)\n",
    "                refs.append(x)\n",
    "            if re.search(r'\\[\\[category',l):\n",
    "                x = re.sub(r'\\[\\[category:(.*)\\]\\]',r'\\1',l)\n",
    "                cat.append(x)\n",
    "            if re.match(r'\\*[\\ ]*\\[',l):\n",
    "                extlinks.append(l)\n",
    "        \n",
    "        return (refs,extlinks,cat)\n",
    "    \n",
    "    def textHandling(self,ID,text,title):\n",
    "        text = text.lower()\n",
    "        cleaned_text = text.split('==references==')\n",
    "#         print(data)\n",
    "        if len(cleaned_text) == 1:\n",
    "            cleaned_text = text.split('== references== ')\n",
    "        if len(cleaned_text) == 1:\n",
    "            references = []\n",
    "            links = []\n",
    "            categories = []\n",
    "        else:\n",
    "            useful = cleaned_text[1]\n",
    "            (refs,extlink,cat) = self.findUsefulText(useful)\n",
    "        \n",
    "            "
   ]
  },
  {
   "cell_type": "code",
   "execution_count": 4,
   "metadata": {},
   "outputs": [],
   "source": [
    "class XMLHandler(xml.sax.ContentHandler):\n",
    "    def __init__(self):\n",
    "        self.CurrentData = ''\n",
    "        self.title = ''\n",
    "        self.ID = ''\n",
    "        self.idFlag = 0\n",
    "        self.text = \"\"\n",
    "        \n",
    "    def startElement(self,tag,attributes):\n",
    "        self.CurrentData = tag\n",
    "            \n",
    "    def endElement(self,tag):\n",
    "        if self.CurrentData == 'title':\n",
    "            pass\n",
    "#             print(self.title)\n",
    "        elif self.CurrentData == 'text':\n",
    "            pass\n",
    "#             print(self.text)\n",
    "        \n",
    "        \n",
    "        \n",
    "        if tag == 'page':\n",
    "            reg = RegexExp()\n",
    "            reg.textHandling(self.ID,self.text,self.title)\n",
    "            self.CurrentData = ''\n",
    "            self.title = ''\n",
    "            self.ID = ''\n",
    "            self.idFlag = 0\n",
    "            self.text = ''\n",
    "            \n",
    "        \n",
    "        \n",
    "    def characters(self,content):\n",
    "        if self.CurrentData == 'title':\n",
    "            self.title += content\n",
    "        elif self.CurrentData == 'text':\n",
    "            self.text += content\n",
    "        elif self.CurrentData == 'id' and self.idFlag == 0:\n",
    "            self.ID = content\n",
    "            self.idFlag = 1"
   ]
  },
  {
   "cell_type": "code",
   "execution_count": 5,
   "metadata": {},
   "outputs": [],
   "source": [
    "class Parser():\n",
    "    def __init__(self,filename):\n",
    "        self.parser = xml.sax.make_parser()\n",
    "        self.parser.setFeature(xml.sax.handler.feature_namespaces, 0)\n",
    "        self.handler =  XMLHandler()\n",
    "        self.parser.setContentHandler(self.handler)\n",
    "        self.parser.parse(filename)"
   ]
  },
  {
   "cell_type": "code",
   "execution_count": 6,
   "metadata": {},
   "outputs": [],
   "source": [
    "parser = Parser(filename)"
   ]
  },
  {
   "cell_type": "code",
   "execution_count": null,
   "metadata": {},
   "outputs": [],
   "source": []
  }
 ],
 "metadata": {
  "kernelspec": {
   "display_name": "Python 3",
   "language": "python",
   "name": "python3"
  },
  "language_info": {
   "codemirror_mode": {
    "name": "ipython",
    "version": 3
   },
   "file_extension": ".py",
   "mimetype": "text/x-python",
   "name": "python",
   "nbconvert_exporter": "python",
   "pygments_lexer": "ipython3",
   "version": "3.8.2"
  }
 },
 "nbformat": 4,
 "nbformat_minor": 4
}
